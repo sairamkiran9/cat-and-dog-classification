{
  "nbformat": 4,
  "nbformat_minor": 0,
  "metadata": {
    "colab": {
      "name": "Cat and Dog Eval.ipynb",
      "provenance": [],
      "collapsed_sections": [],
      "authorship_tag": "ABX9TyMM2AF5VTjqd8MLp5z8lXjr",
      "include_colab_link": true
    },
    "kernelspec": {
      "name": "python3",
      "display_name": "Python 3"
    }
  },
  "cells": [
    {
      "cell_type": "markdown",
      "metadata": {
        "id": "view-in-github",
        "colab_type": "text"
      },
      "source": [
        "<a href=\"https://colab.research.google.com/github/sairamkiran9/cat-and-dog-classification/blob/master/eval.ipynb\" target=\"_parent\"><img src=\"https://colab.research.google.com/assets/colab-badge.svg\" alt=\"Open In Colab\"/></a>"
      ]
    },
    {
      "cell_type": "markdown",
      "metadata": {
        "id": "aK67Z7G5gCdw"
      },
      "source": [
        "##Cat and Dog Classification Evaluation"
      ]
    },
    {
      "cell_type": "code",
      "metadata": {
        "id": "bWO_i8eremwL"
      },
      "source": [
        "from google.colab import drive\n",
        "drive.mount('/content/drive')"
      ],
      "execution_count": null,
      "outputs": []
    },
    {
      "cell_type": "code",
      "metadata": {
        "id": "KmW_c0PfN_GA"
      },
      "source": [
        "from google.colab import files\r\n",
        "import tensorflow as tf\r\n",
        "import numpy as np\r\n",
        "import pandas as pd \r\n",
        "import matplotlib.pyplot as plt\r\n",
        "from keras.preprocessing.image import ImageDataGenerator, load_img\r\n",
        "import os\r\n",
        "import warnings\r\n",
        "warnings.filterwarnings(\"ignore\")"
      ],
      "execution_count": 2,
      "outputs": []
    },
    {
      "cell_type": "code",
      "metadata": {
        "id": "ypjgJVsIbu3R"
      },
      "source": [
        "def prediction(dir_path):\r\n",
        "  test_filenames = os.listdir(\"/content/img\")\r\n",
        "  test_filenames.remove('.ipynb_checkpoints')\r\n",
        "  test_df = pd.DataFrame({\r\n",
        "      'filename': test_filenames\r\n",
        "  })\r\n",
        "  nb_samples = test_df.shape[0]\r\n",
        "\r\n",
        "  test_gen = ImageDataGenerator(rescale=1./255)\r\n",
        "  test_generator = test_gen.flow_from_dataframe(\r\n",
        "      test_df, \r\n",
        "      \"/content/img\", \r\n",
        "      x_col='filename',\r\n",
        "      y_col=None,\r\n",
        "      class_mode=None,\r\n",
        "      target_size=IMAGE_SIZE,\r\n",
        "      batch_size=batch_size,\r\n",
        "      shuffle=False\r\n",
        "  )\r\n",
        "\r\n",
        "  new_model = tf.keras.models.load_model(dir_path)\r\n",
        "  predict = new_model.predict_generator(test_generator, steps=np.ceil(nb_samples/batch_size))\r\n",
        "  test_df['category'] = np.argmax(predict)\r\n",
        "\r\n",
        "  idx = test_df['category'].iloc[-1]\r\n",
        "  name = \"Dog\" if idx==1 else \"Cat\"\r\n",
        "  \r\n",
        "  img = load_img('/content/img/'+test_filenames[-1])\r\n",
        "  plt.imshow(img)\r\n",
        "  plt.xticks(())\r\n",
        "  plt.yticks(())\r\n",
        "  plt.title(f'The model predicted this image as {name}')\r\n",
        "  !rm -r /content/img/{test_filenames[-1]}"
      ],
      "execution_count": 32,
      "outputs": []
    },
    {
      "cell_type": "code",
      "metadata": {
        "id": "Sz2vxjVHZsmi"
      },
      "source": [
        "IMAGE_WIDTH=128\r\n",
        "IMAGE_HEIGHT=128\r\n",
        "IMAGE_SIZE=(IMAGE_WIDTH, IMAGE_HEIGHT)\r\n",
        "IMAGE_CHANNELS=3\r\n",
        "batch_size = 32"
      ],
      "execution_count": 11,
      "outputs": []
    },
    {
      "cell_type": "code",
      "metadata": {
        "id": "2ZjF51ZV71V2"
      },
      "source": [
        "!mkdir '/content/img'"
      ],
      "execution_count": null,
      "outputs": []
    },
    {
      "cell_type": "code",
      "metadata": {
        "id": "aP68lx-H75Y7"
      },
      "source": [
        "cd '/content/img'"
      ],
      "execution_count": null,
      "outputs": []
    },
    {
      "cell_type": "markdown",
      "metadata": {
        "id": "9p7pxi7vhWTq"
      },
      "source": [
        "After runing the below cell, upload a single image in the pop up to predict its class"
      ]
    },
    {
      "cell_type": "code",
      "metadata": {
        "id": "NkrXucdGc1zr"
      },
      "source": [
        "img = files.upload()\r\n",
        "path = '/content/drive/My Drive/s7/best_model.h5'       #specify the path where the model is saved\r\n",
        "prediction(path)"
      ],
      "execution_count": null,
      "outputs": []
    }
  ]
}